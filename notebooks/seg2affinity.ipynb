{
 "cells": [
  {
   "cell_type": "markdown",
   "metadata": {},
   "source": [
    "## Generating Affinity Map from Segmentation Mask"
   ]
  },
  {
   "cell_type": "code",
   "execution_count": null,
   "metadata": {},
   "outputs": [],
   "source": [
    "import numpy as np\n",
    "from connectomics.config import get_cfg_defaults\n",
    "from connectomics.data.dataset.build import _get_input\n",
    "from connectomics.data.utils import seg_to_targets, relabel, seg_widen_border"
   ]
  },
  {
   "cell_type": "code",
   "execution_count": null,
   "metadata": {},
   "outputs": [],
   "source": [
    "from matplotlib import pyplot as plt\n",
    "from mpl_toolkits.axes_grid1 import ImageGrid\n",
    "\n",
    "def show(image, cmap='gray', title='Test Title', interpolation=None):\n",
    "    num_imgs = image.shape[0]\n",
    "    fig = plt.figure(figsize=(20., 3.))\n",
    "    fig.suptitle(title, fontsize=15)\n",
    "    grid = ImageGrid(fig, 111,  # similar to subplot(111)\n",
    "                     nrows_ncols=(1, 6),  # creates 2x2 grid of axes\n",
    "                     axes_pad=0.1,  # pad between axes in inch.\n",
    "                     )\n",
    "    image_list = np.split(image, num_imgs, 0)\n",
    "    for ax, im in zip(grid, [np.squeeze(x) for x in image_list]):\n",
    "        # Iterating over the grid returns the Axes.\n",
    "        ax.imshow(im, cmap=cmap, interpolation=interpolation)\n",
    "        ax.axis('off')\n",
    "\n",
    "    plt.show()"
   ]
  },
  {
   "cell_type": "code",
   "execution_count": null,
   "metadata": {},
   "outputs": [],
   "source": [
    "# Load configs and dataset\n",
    "cfg_filename = '../configs/SNEMI/SNEMI-Base.yaml'\n",
    "cfg = get_cfg_defaults()\n",
    "cfg.merge_from_file(cfg_filename)\n",
    "cfg.DATASET.INPUT_PATH = '../datasets/SNEMI3D/'\n",
    "cfg.DATASET.PAD_SIZE = [0, 0, 0]\n",
    "cfg.MODEL.INPUT_SIZE = [8, 256, 256]\n",
    "volume, labels = _get_input(cfg, 'train')"
   ]
  },
  {
   "cell_type": "code",
   "execution_count": null,
   "metadata": {},
   "outputs": [],
   "source": [
    "zz, yy, xx = cfg.MODEL.INPUT_SIZE\n",
    "model_input = volume[0][:zz,:yy,:xx]\n",
    "model_label = labels[0][:zz,:yy,:xx]\n",
    "model_label = relabel(model_label)\n",
    "model_label = seg_widen_border(model_label)\n",
    "affinity = seg_to_targets(model_label, '2') # The target option for affinity map is '2'\n",
    "show(model_input[1:-1], title='Consecutive EM Images')\n",
    "show(model_label[1:-1], cmap='tab20c', title='Segmentation', interpolation='nearest')\n",
    "show(affinity[0].transpose(1,2,3,0)[1:-1], title='Affinity (3-channel target of x,y,z-affinity)')"
   ]
  },
  {
   "cell_type": "code",
   "execution_count": null,
   "metadata": {},
   "outputs": [],
   "source": []
  }
 ],
 "metadata": {
  "kernelspec": {
   "display_name": "Python 3",
   "language": "python",
   "name": "python3"
  },
  "language_info": {
   "codemirror_mode": {
    "name": "ipython",
    "version": 3
   },
   "file_extension": ".py",
   "mimetype": "text/x-python",
   "name": "python",
   "nbconvert_exporter": "python",
   "pygments_lexer": "ipython3",
   "version": "3.8.5"
  }
 },
 "nbformat": 4,
 "nbformat_minor": 4
}
